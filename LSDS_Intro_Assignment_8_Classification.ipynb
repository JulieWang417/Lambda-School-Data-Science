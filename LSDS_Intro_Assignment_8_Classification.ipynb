{
  "nbformat": 4,
  "nbformat_minor": 0,
  "metadata": {
    "colab": {
      "name": "LSDS_Intro_Assignment_8_Classification.ipynb",
      "version": "0.3.2",
      "provenance": [],
      "collapsed_sections": [],
      "include_colab_link": true
    },
    "kernelspec": {
      "display_name": "Python 3",
      "language": "python",
      "name": "python3"
    }
  },
  "cells": [
    {
      "cell_type": "markdown",
      "metadata": {
        "id": "view-in-github",
        "colab_type": "text"
      },
      "source": [
        "<a href=\"https://colab.research.google.com/github/Nov05/Lambda-School-Data-Science/blob/master/LSDS_Intro_Assignment_8_Classification.ipynb\" target=\"_parent\"><img src=\"https://colab.research.google.com/assets/colab-badge.svg\" alt=\"Open In Colab\"/></a>"
      ]
    },
    {
      "metadata": {
        "id": "lOH73mi0Wc3q",
        "colab_type": "text"
      },
      "cell_type": "markdown",
      "source": [
        "# Lambda School, Intro to Data Science, Day 8 — Classification!"
      ]
    },
    {
      "metadata": {
        "id": "EQ6Yq0xkWc3r",
        "colab_type": "text"
      },
      "cell_type": "markdown",
      "source": [
        "## Assignment\n",
        "\n",
        "Run this cell to load the Titanic data:"
      ]
    },
    {
      "metadata": {
        "id": "ZIQB9PhGbtcs",
        "colab_type": "code",
        "colab": {}
      },
      "cell_type": "code",
      "source": [
        "import pandas as pd\n",
        "from pandas.api.types import is_string_dtype\n",
        "from pandas.api.types import is_numeric_dtype\n",
        "\n",
        "import seaborn as sns\n",
        "import matplotlib.pyplot as plt\n",
        "\n",
        "from statistics import mean\n",
        "from sklearn.preprocessing import LabelEncoder\n",
        "from itertools import combinations\n",
        "\n",
        "from sklearn.linear_model import LogisticRegression\n",
        "from sklearn.metrics import accuracy_score\n",
        "\n",
        "import warnings\n",
        "warnings.filterwarnings('ignore')"
      ],
      "execution_count": 0,
      "outputs": []
    },
    {
      "metadata": {
        "id": "MsZf-QBJWc3s",
        "colab_type": "code",
        "colab": {}
      },
      "cell_type": "code",
      "source": [
        "from sklearn.model_selection import train_test_split\n",
        "train, test = train_test_split(sns.load_dataset('titanic').drop(columns=['alive']), random_state=0)\n",
        "target = 'survived'"
      ],
      "execution_count": 0,
      "outputs": []
    },
    {
      "metadata": {
        "id": "H9xsKSMvtx8R",
        "colab_type": "text"
      },
      "cell_type": "markdown",
      "source": [
        "###Data Exploration"
      ]
    },
    {
      "metadata": {
        "id": "c2CUsCbgte-B",
        "colab_type": "code",
        "colab": {
          "base_uri": "https://localhost:8080/",
          "height": 34
        },
        "outputId": "85dc37d7-54cf-489f-9454-080d06411586"
      },
      "cell_type": "code",
      "source": [
        "train.shape"
      ],
      "execution_count": 3,
      "outputs": [
        {
          "output_type": "execute_result",
          "data": {
            "text/plain": [
              "(668, 14)"
            ]
          },
          "metadata": {
            "tags": []
          },
          "execution_count": 3
        }
      ]
    },
    {
      "metadata": {
        "id": "WqvwJ9EpXXF1",
        "colab_type": "code",
        "colab": {
          "base_uri": "https://localhost:8080/",
          "height": 202
        },
        "outputId": "2a6441fe-b259-40b5-93d7-0033ca672e0c"
      },
      "cell_type": "code",
      "source": [
        "train.head()"
      ],
      "execution_count": 4,
      "outputs": [
        {
          "output_type": "execute_result",
          "data": {
            "text/html": [
              "<div>\n",
              "<style scoped>\n",
              "    .dataframe tbody tr th:only-of-type {\n",
              "        vertical-align: middle;\n",
              "    }\n",
              "\n",
              "    .dataframe tbody tr th {\n",
              "        vertical-align: top;\n",
              "    }\n",
              "\n",
              "    .dataframe thead th {\n",
              "        text-align: right;\n",
              "    }\n",
              "</style>\n",
              "<table border=\"1\" class=\"dataframe\">\n",
              "  <thead>\n",
              "    <tr style=\"text-align: right;\">\n",
              "      <th></th>\n",
              "      <th>survived</th>\n",
              "      <th>pclass</th>\n",
              "      <th>sex</th>\n",
              "      <th>age</th>\n",
              "      <th>sibsp</th>\n",
              "      <th>parch</th>\n",
              "      <th>fare</th>\n",
              "      <th>embarked</th>\n",
              "      <th>class</th>\n",
              "      <th>who</th>\n",
              "      <th>adult_male</th>\n",
              "      <th>deck</th>\n",
              "      <th>embark_town</th>\n",
              "      <th>alone</th>\n",
              "    </tr>\n",
              "  </thead>\n",
              "  <tbody>\n",
              "    <tr>\n",
              "      <th>105</th>\n",
              "      <td>0</td>\n",
              "      <td>3</td>\n",
              "      <td>male</td>\n",
              "      <td>28.0</td>\n",
              "      <td>0</td>\n",
              "      <td>0</td>\n",
              "      <td>7.8958</td>\n",
              "      <td>S</td>\n",
              "      <td>Third</td>\n",
              "      <td>man</td>\n",
              "      <td>True</td>\n",
              "      <td>NaN</td>\n",
              "      <td>Southampton</td>\n",
              "      <td>True</td>\n",
              "    </tr>\n",
              "    <tr>\n",
              "      <th>68</th>\n",
              "      <td>1</td>\n",
              "      <td>3</td>\n",
              "      <td>female</td>\n",
              "      <td>17.0</td>\n",
              "      <td>4</td>\n",
              "      <td>2</td>\n",
              "      <td>7.9250</td>\n",
              "      <td>S</td>\n",
              "      <td>Third</td>\n",
              "      <td>woman</td>\n",
              "      <td>False</td>\n",
              "      <td>NaN</td>\n",
              "      <td>Southampton</td>\n",
              "      <td>False</td>\n",
              "    </tr>\n",
              "    <tr>\n",
              "      <th>253</th>\n",
              "      <td>0</td>\n",
              "      <td>3</td>\n",
              "      <td>male</td>\n",
              "      <td>30.0</td>\n",
              "      <td>1</td>\n",
              "      <td>0</td>\n",
              "      <td>16.1000</td>\n",
              "      <td>S</td>\n",
              "      <td>Third</td>\n",
              "      <td>man</td>\n",
              "      <td>True</td>\n",
              "      <td>NaN</td>\n",
              "      <td>Southampton</td>\n",
              "      <td>False</td>\n",
              "    </tr>\n",
              "    <tr>\n",
              "      <th>320</th>\n",
              "      <td>0</td>\n",
              "      <td>3</td>\n",
              "      <td>male</td>\n",
              "      <td>22.0</td>\n",
              "      <td>0</td>\n",
              "      <td>0</td>\n",
              "      <td>7.2500</td>\n",
              "      <td>S</td>\n",
              "      <td>Third</td>\n",
              "      <td>man</td>\n",
              "      <td>True</td>\n",
              "      <td>NaN</td>\n",
              "      <td>Southampton</td>\n",
              "      <td>True</td>\n",
              "    </tr>\n",
              "    <tr>\n",
              "      <th>706</th>\n",
              "      <td>1</td>\n",
              "      <td>2</td>\n",
              "      <td>female</td>\n",
              "      <td>45.0</td>\n",
              "      <td>0</td>\n",
              "      <td>0</td>\n",
              "      <td>13.5000</td>\n",
              "      <td>S</td>\n",
              "      <td>Second</td>\n",
              "      <td>woman</td>\n",
              "      <td>False</td>\n",
              "      <td>NaN</td>\n",
              "      <td>Southampton</td>\n",
              "      <td>True</td>\n",
              "    </tr>\n",
              "  </tbody>\n",
              "</table>\n",
              "</div>"
            ],
            "text/plain": [
              "     survived  pclass     sex   age  sibsp  parch     fare embarked   class  \\\n",
              "105         0       3    male  28.0      0      0   7.8958        S   Third   \n",
              "68          1       3  female  17.0      4      2   7.9250        S   Third   \n",
              "253         0       3    male  30.0      1      0  16.1000        S   Third   \n",
              "320         0       3    male  22.0      0      0   7.2500        S   Third   \n",
              "706         1       2  female  45.0      0      0  13.5000        S  Second   \n",
              "\n",
              "       who  adult_male deck  embark_town  alone  \n",
              "105    man        True  NaN  Southampton   True  \n",
              "68   woman       False  NaN  Southampton  False  \n",
              "253    man        True  NaN  Southampton  False  \n",
              "320    man        True  NaN  Southampton   True  \n",
              "706  woman       False  NaN  Southampton   True  "
            ]
          },
          "metadata": {
            "tags": []
          },
          "execution_count": 4
        }
      ]
    },
    {
      "metadata": {
        "id": "bM7VTgNewqlh",
        "colab_type": "code",
        "colab": {
          "base_uri": "https://localhost:8080/",
          "height": 277
        },
        "outputId": "b5846269-805e-4439-fb12-668fe30f5b46"
      },
      "cell_type": "code",
      "source": [
        "print('Column Name          Data Type')\n",
        "for col in train.columns:\n",
        "  print('{:20} {}'.format(col, train[col].dtype))"
      ],
      "execution_count": 5,
      "outputs": [
        {
          "output_type": "stream",
          "text": [
            "Column Name          Data Type\n",
            "survived             int64\n",
            "pclass               int64\n",
            "sex                  object\n",
            "age                  float64\n",
            "sibsp                int64\n",
            "parch                int64\n",
            "fare                 float64\n",
            "embarked             object\n",
            "class                category\n",
            "who                  object\n",
            "adult_male           bool\n",
            "deck                 category\n",
            "embark_town          object\n",
            "alone                bool\n"
          ],
          "name": "stdout"
        }
      ]
    },
    {
      "metadata": {
        "id": "8sOvv4_zctZy",
        "colab_type": "code",
        "colab": {
          "base_uri": "https://localhost:8080/",
          "height": 294
        },
        "outputId": "02ec58c7-5d0e-4ac0-b968-d325cca11ae4"
      },
      "cell_type": "code",
      "source": [
        "train.describe()"
      ],
      "execution_count": 6,
      "outputs": [
        {
          "output_type": "execute_result",
          "data": {
            "text/html": [
              "<div>\n",
              "<style scoped>\n",
              "    .dataframe tbody tr th:only-of-type {\n",
              "        vertical-align: middle;\n",
              "    }\n",
              "\n",
              "    .dataframe tbody tr th {\n",
              "        vertical-align: top;\n",
              "    }\n",
              "\n",
              "    .dataframe thead th {\n",
              "        text-align: right;\n",
              "    }\n",
              "</style>\n",
              "<table border=\"1\" class=\"dataframe\">\n",
              "  <thead>\n",
              "    <tr style=\"text-align: right;\">\n",
              "      <th></th>\n",
              "      <th>survived</th>\n",
              "      <th>pclass</th>\n",
              "      <th>age</th>\n",
              "      <th>sibsp</th>\n",
              "      <th>parch</th>\n",
              "      <th>fare</th>\n",
              "    </tr>\n",
              "  </thead>\n",
              "  <tbody>\n",
              "    <tr>\n",
              "      <th>count</th>\n",
              "      <td>668.000000</td>\n",
              "      <td>668.000000</td>\n",
              "      <td>535.000000</td>\n",
              "      <td>668.000000</td>\n",
              "      <td>668.000000</td>\n",
              "      <td>668.000000</td>\n",
              "    </tr>\n",
              "    <tr>\n",
              "      <th>mean</th>\n",
              "      <td>0.386228</td>\n",
              "      <td>2.305389</td>\n",
              "      <td>29.900000</td>\n",
              "      <td>0.534431</td>\n",
              "      <td>0.392216</td>\n",
              "      <td>32.373621</td>\n",
              "    </tr>\n",
              "    <tr>\n",
              "      <th>std</th>\n",
              "      <td>0.487249</td>\n",
              "      <td>0.837377</td>\n",
              "      <td>14.487993</td>\n",
              "      <td>1.161739</td>\n",
              "      <td>0.822509</td>\n",
              "      <td>50.632021</td>\n",
              "    </tr>\n",
              "    <tr>\n",
              "      <th>min</th>\n",
              "      <td>0.000000</td>\n",
              "      <td>1.000000</td>\n",
              "      <td>0.670000</td>\n",
              "      <td>0.000000</td>\n",
              "      <td>0.000000</td>\n",
              "      <td>0.000000</td>\n",
              "    </tr>\n",
              "    <tr>\n",
              "      <th>25%</th>\n",
              "      <td>0.000000</td>\n",
              "      <td>2.000000</td>\n",
              "      <td>21.000000</td>\n",
              "      <td>0.000000</td>\n",
              "      <td>0.000000</td>\n",
              "      <td>7.925000</td>\n",
              "    </tr>\n",
              "    <tr>\n",
              "      <th>50%</th>\n",
              "      <td>0.000000</td>\n",
              "      <td>3.000000</td>\n",
              "      <td>29.000000</td>\n",
              "      <td>0.000000</td>\n",
              "      <td>0.000000</td>\n",
              "      <td>14.500000</td>\n",
              "    </tr>\n",
              "    <tr>\n",
              "      <th>75%</th>\n",
              "      <td>1.000000</td>\n",
              "      <td>3.000000</td>\n",
              "      <td>38.000000</td>\n",
              "      <td>1.000000</td>\n",
              "      <td>0.000000</td>\n",
              "      <td>31.275000</td>\n",
              "    </tr>\n",
              "    <tr>\n",
              "      <th>max</th>\n",
              "      <td>1.000000</td>\n",
              "      <td>3.000000</td>\n",
              "      <td>80.000000</td>\n",
              "      <td>8.000000</td>\n",
              "      <td>6.000000</td>\n",
              "      <td>512.329200</td>\n",
              "    </tr>\n",
              "  </tbody>\n",
              "</table>\n",
              "</div>"
            ],
            "text/plain": [
              "         survived      pclass         age       sibsp       parch        fare\n",
              "count  668.000000  668.000000  535.000000  668.000000  668.000000  668.000000\n",
              "mean     0.386228    2.305389   29.900000    0.534431    0.392216   32.373621\n",
              "std      0.487249    0.837377   14.487993    1.161739    0.822509   50.632021\n",
              "min      0.000000    1.000000    0.670000    0.000000    0.000000    0.000000\n",
              "25%      0.000000    2.000000   21.000000    0.000000    0.000000    7.925000\n",
              "50%      0.000000    3.000000   29.000000    0.000000    0.000000   14.500000\n",
              "75%      1.000000    3.000000   38.000000    1.000000    0.000000   31.275000\n",
              "max      1.000000    3.000000   80.000000    8.000000    6.000000  512.329200"
            ]
          },
          "metadata": {
            "tags": []
          },
          "execution_count": 6
        }
      ]
    },
    {
      "metadata": {
        "id": "01ZC7gN-c2Vh",
        "colab_type": "code",
        "colab": {
          "base_uri": "https://localhost:8080/",
          "height": 171
        },
        "outputId": "970f3dba-3f1c-47b6-f623-7134624f2642"
      },
      "cell_type": "code",
      "source": [
        "train.describe(include=['object', 'category'])"
      ],
      "execution_count": 7,
      "outputs": [
        {
          "output_type": "execute_result",
          "data": {
            "text/html": [
              "<div>\n",
              "<style scoped>\n",
              "    .dataframe tbody tr th:only-of-type {\n",
              "        vertical-align: middle;\n",
              "    }\n",
              "\n",
              "    .dataframe tbody tr th {\n",
              "        vertical-align: top;\n",
              "    }\n",
              "\n",
              "    .dataframe thead th {\n",
              "        text-align: right;\n",
              "    }\n",
              "</style>\n",
              "<table border=\"1\" class=\"dataframe\">\n",
              "  <thead>\n",
              "    <tr style=\"text-align: right;\">\n",
              "      <th></th>\n",
              "      <th>sex</th>\n",
              "      <th>embarked</th>\n",
              "      <th>class</th>\n",
              "      <th>who</th>\n",
              "      <th>deck</th>\n",
              "      <th>embark_town</th>\n",
              "    </tr>\n",
              "  </thead>\n",
              "  <tbody>\n",
              "    <tr>\n",
              "      <th>count</th>\n",
              "      <td>668</td>\n",
              "      <td>666</td>\n",
              "      <td>668</td>\n",
              "      <td>668</td>\n",
              "      <td>156</td>\n",
              "      <td>666</td>\n",
              "    </tr>\n",
              "    <tr>\n",
              "      <th>unique</th>\n",
              "      <td>2</td>\n",
              "      <td>3</td>\n",
              "      <td>3</td>\n",
              "      <td>3</td>\n",
              "      <td>7</td>\n",
              "      <td>3</td>\n",
              "    </tr>\n",
              "    <tr>\n",
              "      <th>top</th>\n",
              "      <td>male</td>\n",
              "      <td>S</td>\n",
              "      <td>Third</td>\n",
              "      <td>man</td>\n",
              "      <td>C</td>\n",
              "      <td>Southampton</td>\n",
              "    </tr>\n",
              "    <tr>\n",
              "      <th>freq</th>\n",
              "      <td>437</td>\n",
              "      <td>490</td>\n",
              "      <td>367</td>\n",
              "      <td>407</td>\n",
              "      <td>43</td>\n",
              "      <td>490</td>\n",
              "    </tr>\n",
              "  </tbody>\n",
              "</table>\n",
              "</div>"
            ],
            "text/plain": [
              "         sex embarked  class  who deck  embark_town\n",
              "count    668      666    668  668  156          666\n",
              "unique     2        3      3    3    7            3\n",
              "top     male        S  Third  man    C  Southampton\n",
              "freq     437      490    367  407   43          490"
            ]
          },
          "metadata": {
            "tags": []
          },
          "execution_count": 7
        }
      ]
    },
    {
      "metadata": {
        "id": "3YN8t2zgh2Ry",
        "colab_type": "code",
        "colab": {
          "base_uri": "https://localhost:8080/",
          "height": 34
        },
        "outputId": "e8ecd4db-eaf8-43b7-ee73-76d65b9d1d88"
      },
      "cell_type": "code",
      "source": [
        "train.embark_town.unique()"
      ],
      "execution_count": 8,
      "outputs": [
        {
          "output_type": "execute_result",
          "data": {
            "text/plain": [
              "array(['Southampton', 'Cherbourg', 'Queenstown', nan], dtype=object)"
            ]
          },
          "metadata": {
            "tags": []
          },
          "execution_count": 8
        }
      ]
    },
    {
      "metadata": {
        "id": "3C_kHJzKuFHK",
        "colab_type": "text"
      },
      "cell_type": "markdown",
      "source": [
        "### Fill NAs"
      ]
    },
    {
      "metadata": {
        "id": "R6CtN3SCii04",
        "colab_type": "code",
        "colab": {
          "base_uri": "https://localhost:8080/",
          "height": 277
        },
        "outputId": "b43a3fda-03ca-41d4-d8d6-b7bf3ec140c9"
      },
      "cell_type": "code",
      "source": [
        "# find out train data columns that contain NAs\n",
        "train.isna().sum()"
      ],
      "execution_count": 9,
      "outputs": [
        {
          "output_type": "execute_result",
          "data": {
            "text/plain": [
              "survived         0\n",
              "pclass           0\n",
              "sex              0\n",
              "age            133\n",
              "sibsp            0\n",
              "parch            0\n",
              "fare             0\n",
              "embarked         2\n",
              "class            0\n",
              "who              0\n",
              "adult_male       0\n",
              "deck           512\n",
              "embark_town      2\n",
              "alone            0\n",
              "dtype: int64"
            ]
          },
          "metadata": {
            "tags": []
          },
          "execution_count": 9
        }
      ]
    },
    {
      "metadata": {
        "id": "OeQggzdftV33",
        "colab_type": "code",
        "colab": {
          "base_uri": "https://localhost:8080/",
          "height": 277
        },
        "outputId": "27adf536-b366-4128-efa2-246e73a3f5d0"
      },
      "cell_type": "code",
      "source": [
        "# check test data NAs\n",
        "test.isna().sum()"
      ],
      "execution_count": 10,
      "outputs": [
        {
          "output_type": "execute_result",
          "data": {
            "text/plain": [
              "survived         0\n",
              "pclass           0\n",
              "sex              0\n",
              "age             44\n",
              "sibsp            0\n",
              "parch            0\n",
              "fare             0\n",
              "embarked         0\n",
              "class            0\n",
              "who              0\n",
              "adult_male       0\n",
              "deck           176\n",
              "embark_town      0\n",
              "alone            0\n",
              "dtype: int64"
            ]
          },
          "metadata": {
            "tags": []
          },
          "execution_count": 10
        }
      ]
    },
    {
      "metadata": {
        "id": "WWIAV5NGVzQd",
        "colab_type": "code",
        "colab": {
          "base_uri": "https://localhost:8080/",
          "height": 34
        },
        "outputId": "35ea5d01-ae9f-4c18-82d8-47a1d5d0c794"
      },
      "cell_type": "code",
      "source": [
        "# drop column 'deck' due to too many NAs, fill column 'age' NAs with train data mean\n",
        "age_mean = mean(train.age.dropna())\n",
        "print(age_mean)"
      ],
      "execution_count": 11,
      "outputs": [
        {
          "output_type": "stream",
          "text": [
            "29.9\n"
          ],
          "name": "stdout"
        }
      ]
    },
    {
      "metadata": {
        "id": "vldquTKz6Srk",
        "colab_type": "code",
        "colab": {
          "base_uri": "https://localhost:8080/",
          "height": 34
        },
        "outputId": "219eaad8-53a2-4332-fe90-4e2537714bbf"
      },
      "cell_type": "code",
      "source": [
        "# test data column 'age' mean\n",
        "mean(test.age.dropna())"
      ],
      "execution_count": 12,
      "outputs": [
        {
          "output_type": "execute_result",
          "data": {
            "text/plain": [
              "29.098715083798883"
            ]
          },
          "metadata": {
            "tags": []
          },
          "execution_count": 12
        }
      ]
    },
    {
      "metadata": {
        "id": "2YUYk-Iu7vu6",
        "colab_type": "code",
        "colab": {
          "base_uri": "https://localhost:8080/",
          "height": 34
        },
        "outputId": "1b29988c-417f-47d0-cb88-018f7621ff62"
      },
      "cell_type": "code",
      "source": [
        "# verify train data NAs are filled\n",
        "train.age = train.age.fillna(age_mean)\n",
        "train.age.isna().sum()"
      ],
      "execution_count": 13,
      "outputs": [
        {
          "output_type": "execute_result",
          "data": {
            "text/plain": [
              "0"
            ]
          },
          "metadata": {
            "tags": []
          },
          "execution_count": 13
        }
      ]
    },
    {
      "metadata": {
        "id": "Cj_sSG1Ilby6",
        "colab_type": "code",
        "colab": {
          "base_uri": "https://localhost:8080/",
          "height": 34
        },
        "outputId": "5a138d65-0408-47c2-dd3b-2cb32c6da250"
      },
      "cell_type": "code",
      "source": [
        "# verify test data NAs are filled\n",
        "test.age = test.age.fillna(age_mean)\n",
        "test.age.isna().sum()"
      ],
      "execution_count": 14,
      "outputs": [
        {
          "output_type": "execute_result",
          "data": {
            "text/plain": [
              "0"
            ]
          },
          "metadata": {
            "tags": []
          },
          "execution_count": 14
        }
      ]
    },
    {
      "metadata": {
        "id": "JKp5EGTtlm7I",
        "colab_type": "text"
      },
      "cell_type": "markdown",
      "source": [
        "### Encoding"
      ]
    },
    {
      "metadata": {
        "id": "RR5BA2yhll-h",
        "colab_type": "code",
        "colab": {
          "base_uri": "https://localhost:8080/",
          "height": 121
        },
        "outputId": "ea9d0908-26b2-4ecb-f2dc-c4836995de6f"
      },
      "cell_type": "code",
      "source": [
        "# encode train data column 'sex'\n",
        "le = LabelEncoder()\n",
        "train[['sex']] = train[['sex']].apply(le.fit_transform)\n",
        "train.sex.head()"
      ],
      "execution_count": 15,
      "outputs": [
        {
          "output_type": "execute_result",
          "data": {
            "text/plain": [
              "105    1\n",
              "68     0\n",
              "253    1\n",
              "320    1\n",
              "706    0\n",
              "Name: sex, dtype: int64"
            ]
          },
          "metadata": {
            "tags": []
          },
          "execution_count": 15
        }
      ]
    },
    {
      "metadata": {
        "id": "KIIbNEHa58kF",
        "colab_type": "code",
        "colab": {
          "base_uri": "https://localhost:8080/",
          "height": 121
        },
        "outputId": "fa00fe4e-d9cc-4238-c43c-25466c2097de"
      },
      "cell_type": "code",
      "source": [
        "# encode test data column 'sex'\n",
        "test[['sex']] = test[['sex']].apply(le.fit_transform)\n",
        "test.sex.head()"
      ],
      "execution_count": 16,
      "outputs": [
        {
          "output_type": "execute_result",
          "data": {
            "text/plain": [
              "495    1\n",
              "648    1\n",
              "278    1\n",
              "31     0\n",
              "255    0\n",
              "Name: sex, dtype: int64"
            ]
          },
          "metadata": {
            "tags": []
          },
          "execution_count": 16
        }
      ]
    },
    {
      "metadata": {
        "id": "BWnyTrASWc3v",
        "colab_type": "text"
      },
      "cell_type": "markdown",
      "source": [
        "Then, train a [Logistic Regression](http://scikit-learn.org/stable/modules/generated/sklearn.linear_model.LogisticRegression.html#sklearn.linear_model.LogisticRegression.predict_proba), [Decision Tree](http://scikit-learn.org/stable/modules/generated/sklearn.tree.DecisionTreeClassifier.html), or [Random Forest](http://scikit-learn.org/stable/modules/generated/sklearn.ensemble.RandomForestClassifier.html) model. Use any features and parameters you want. \n",
        "\n",
        "Try to get better than 78.0% accuracy on the test set! (This is not required, but encouraged.)\n",
        "\n",
        "Do refer to the lecture notebook — but try not to copy-paste.\n",
        "\n",
        "> You must type each of these exercises in, manually. If you copy and paste, you might as well not even do them. The point of these exercises is to train your hands, your brain, and your mind in how to read, write, and see code. If you copy-paste, you are cheating yourself out of the effectiveness of the lessons. —*[Learn Python the Hard Way](https://learnpythonthehardway.org/book/intro.html)*\n",
        "\n",
        "After this, you may want to try [Kaggle's Titanic challenge](https://www.kaggle.com/c/titanic)!"
      ]
    },
    {
      "metadata": {
        "id": "57EixCs-6Q31",
        "colab_type": "code",
        "colab": {}
      },
      "cell_type": "code",
      "source": [
        "features_all = ['pclass', 'sex', 'age', 'sibsp', 'parch', 'fare',\t'alone']\n",
        "target = 'survived'"
      ],
      "execution_count": 0,
      "outputs": []
    },
    {
      "metadata": {
        "id": "K6fpyip-jQzm",
        "colab_type": "code",
        "colab": {
          "base_uri": "https://localhost:8080/",
          "height": 8337
        },
        "outputId": "4dab51fa-c0a2-4980-c770-0c6e012b91ec"
      },
      "cell_type": "code",
      "source": [
        "# try Logistic Regression model with different feature combinations\n",
        "model = LogisticRegression()\n",
        "for i in range(2, 8):\n",
        "  for comb in combinations(features_all, i):\n",
        "    features = list(comb)\n",
        "    model.fit(train[features], train[target])\n",
        "    print('features:', features)\n",
        "\n",
        "    # Train accuracy\n",
        "    y_true = train[target]\n",
        "    y_pred = model.predict(train[features])\n",
        "    print('Train accuracy:', accuracy_score(y_true, y_pred))\n",
        "\n",
        "    # Test accuracy\n",
        "    y_true = test[target]\n",
        "    y_pred = model.predict(test[features])\n",
        "    print('Test accuracy:', accuracy_score(y_true, y_pred))\n",
        "    print();"
      ],
      "execution_count": 32,
      "outputs": [
        {
          "output_type": "stream",
          "text": [
            "features: ['pclass', 'sex']\n",
            "Train accuracy: 0.7889221556886228\n",
            "Test accuracy: 0.7802690582959642\n",
            "\n",
            "features: ['pclass', 'age']\n",
            "Train accuracy: 0.6946107784431138\n",
            "Test accuracy: 0.726457399103139\n",
            "\n",
            "features: ['pclass', 'sibsp']\n",
            "Train accuracy: 0.6691616766467066\n",
            "Test accuracy: 0.7085201793721974\n",
            "\n",
            "features: ['pclass', 'parch']\n",
            "Train accuracy: 0.6796407185628742\n",
            "Test accuracy: 0.7130044843049327\n",
            "\n",
            "features: ['pclass', 'fare']\n",
            "Train accuracy: 0.6691616766467066\n",
            "Test accuracy: 0.7085201793721974\n",
            "\n",
            "features: ['pclass', 'alone']\n",
            "Train accuracy: 0.7005988023952096\n",
            "Test accuracy: 0.7130044843049327\n",
            "\n",
            "features: ['sex', 'age']\n",
            "Train accuracy: 0.7889221556886228\n",
            "Test accuracy: 0.7802690582959642\n",
            "\n",
            "features: ['sex', 'sibsp']\n",
            "Train accuracy: 0.7949101796407185\n",
            "Test accuracy: 0.7802690582959642\n",
            "\n",
            "features: ['sex', 'parch']\n",
            "Train accuracy: 0.7889221556886228\n",
            "Test accuracy: 0.7802690582959642\n",
            "\n",
            "features: ['sex', 'fare']\n",
            "Train accuracy: 0.7844311377245509\n",
            "Test accuracy: 0.7757847533632287\n",
            "\n",
            "features: ['sex', 'alone']\n",
            "Train accuracy: 0.7889221556886228\n",
            "Test accuracy: 0.7802690582959642\n",
            "\n",
            "features: ['age', 'sibsp']\n",
            "Train accuracy: 0.6182634730538922\n",
            "Test accuracy: 0.6278026905829597\n",
            "\n",
            "features: ['age', 'parch']\n",
            "Train accuracy: 0.6107784431137725\n",
            "Test accuracy: 0.6053811659192825\n",
            "\n",
            "features: ['age', 'fare']\n",
            "Train accuracy: 0.6437125748502994\n",
            "Test accuracy: 0.6905829596412556\n",
            "\n",
            "features: ['age', 'alone']\n",
            "Train accuracy: 0.6302395209580839\n",
            "Test accuracy: 0.6367713004484304\n",
            "\n",
            "features: ['sibsp', 'parch']\n",
            "Train accuracy: 0.6212574850299402\n",
            "Test accuracy: 0.6278026905829597\n",
            "\n",
            "features: ['sibsp', 'fare']\n",
            "Train accuracy: 0.6691616766467066\n",
            "Test accuracy: 0.7130044843049327\n",
            "\n",
            "features: ['sibsp', 'alone']\n",
            "Train accuracy: 0.6601796407185628\n",
            "Test accuracy: 0.6547085201793722\n",
            "\n",
            "features: ['parch', 'fare']\n",
            "Train accuracy: 0.6541916167664671\n",
            "Test accuracy: 0.695067264573991\n",
            "\n",
            "features: ['parch', 'alone']\n",
            "Train accuracy: 0.6122754491017964\n",
            "Test accuracy: 0.6233183856502242\n",
            "\n",
            "features: ['fare', 'alone']\n",
            "Train accuracy: 0.655688622754491\n",
            "Test accuracy: 0.6905829596412556\n",
            "\n",
            "features: ['pclass', 'sex', 'age']\n",
            "Train accuracy: 0.7979041916167665\n",
            "Test accuracy: 0.7847533632286996\n",
            "\n",
            "features: ['pclass', 'sex', 'sibsp']\n",
            "Train accuracy: 0.8038922155688623\n",
            "Test accuracy: 0.7892376681614349\n",
            "\n",
            "features: ['pclass', 'sex', 'parch']\n",
            "Train accuracy: 0.7904191616766467\n",
            "Test accuracy: 0.7802690582959642\n",
            "\n",
            "features: ['pclass', 'sex', 'fare']\n",
            "Train accuracy: 0.7904191616766467\n",
            "Test accuracy: 0.7757847533632287\n",
            "\n",
            "features: ['pclass', 'sex', 'alone']\n",
            "Train accuracy: 0.7889221556886228\n",
            "Test accuracy: 0.7802690582959642\n",
            "\n",
            "features: ['pclass', 'age', 'sibsp']\n",
            "Train accuracy: 0.6841317365269461\n",
            "Test accuracy: 0.7309417040358744\n",
            "\n",
            "features: ['pclass', 'age', 'parch']\n",
            "Train accuracy: 0.6946107784431138\n",
            "Test accuracy: 0.7309417040358744\n",
            "\n",
            "features: ['pclass', 'age', 'fare']\n",
            "Train accuracy: 0.6961077844311377\n",
            "Test accuracy: 0.7174887892376681\n",
            "\n",
            "features: ['pclass', 'age', 'alone']\n",
            "Train accuracy: 0.7140718562874252\n",
            "Test accuracy: 0.7309417040358744\n",
            "\n",
            "features: ['pclass', 'sibsp', 'parch']\n",
            "Train accuracy: 0.6796407185628742\n",
            "Test accuracy: 0.7085201793721974\n",
            "\n",
            "features: ['pclass', 'sibsp', 'fare']\n",
            "Train accuracy: 0.6691616766467066\n",
            "Test accuracy: 0.7085201793721974\n",
            "\n",
            "features: ['pclass', 'sibsp', 'alone']\n",
            "Train accuracy: 0.6991017964071856\n",
            "Test accuracy: 0.7130044843049327\n",
            "\n",
            "features: ['pclass', 'parch', 'fare']\n",
            "Train accuracy: 0.6811377245508982\n",
            "Test accuracy: 0.7130044843049327\n",
            "\n",
            "features: ['pclass', 'parch', 'alone']\n",
            "Train accuracy: 0.7005988023952096\n",
            "Test accuracy: 0.7130044843049327\n",
            "\n",
            "features: ['pclass', 'fare', 'alone']\n",
            "Train accuracy: 0.7005988023952096\n",
            "Test accuracy: 0.7130044843049327\n",
            "\n",
            "features: ['sex', 'age', 'sibsp']\n",
            "Train accuracy: 0.7949101796407185\n",
            "Test accuracy: 0.7802690582959642\n",
            "\n",
            "features: ['sex', 'age', 'parch']\n",
            "Train accuracy: 0.7889221556886228\n",
            "Test accuracy: 0.7802690582959642\n",
            "\n",
            "features: ['sex', 'age', 'fare']\n",
            "Train accuracy: 0.7859281437125748\n",
            "Test accuracy: 0.7757847533632287\n",
            "\n",
            "features: ['sex', 'age', 'alone']\n",
            "Train accuracy: 0.7889221556886228\n",
            "Test accuracy: 0.7802690582959642\n",
            "\n",
            "features: ['sex', 'sibsp', 'parch']\n",
            "Train accuracy: 0.7949101796407185\n",
            "Test accuracy: 0.7802690582959642\n",
            "\n",
            "features: ['sex', 'sibsp', 'fare']\n",
            "Train accuracy: 0.7904191616766467\n",
            "Test accuracy: 0.7757847533632287\n",
            "\n",
            "features: ['sex', 'sibsp', 'alone']\n",
            "Train accuracy: 0.7964071856287425\n",
            "Test accuracy: 0.7847533632286996\n",
            "\n",
            "features: ['sex', 'parch', 'fare']\n",
            "Train accuracy: 0.7874251497005988\n",
            "Test accuracy: 0.7802690582959642\n",
            "\n",
            "features: ['sex', 'parch', 'alone']\n",
            "Train accuracy: 0.7904191616766467\n",
            "Test accuracy: 0.7802690582959642\n",
            "\n",
            "features: ['sex', 'fare', 'alone']\n",
            "Train accuracy: 0.7844311377245509\n",
            "Test accuracy: 0.7757847533632287\n",
            "\n",
            "features: ['age', 'sibsp', 'parch']\n",
            "Train accuracy: 0.6422155688622755\n",
            "Test accuracy: 0.6367713004484304\n",
            "\n",
            "features: ['age', 'sibsp', 'fare']\n",
            "Train accuracy: 0.6766467065868264\n",
            "Test accuracy: 0.726457399103139\n",
            "\n",
            "features: ['age', 'sibsp', 'alone']\n",
            "Train accuracy: 0.655688622754491\n",
            "Test accuracy: 0.6457399103139013\n",
            "\n",
            "features: ['age', 'parch', 'fare']\n",
            "Train accuracy: 0.6467065868263473\n",
            "Test accuracy: 0.6905829596412556\n",
            "\n",
            "features: ['age', 'parch', 'alone']\n",
            "Train accuracy: 0.6197604790419161\n",
            "Test accuracy: 0.6367713004484304\n",
            "\n",
            "features: ['age', 'fare', 'alone']\n",
            "Train accuracy: 0.6631736526946108\n",
            "Test accuracy: 0.6681614349775785\n",
            "\n",
            "features: ['sibsp', 'parch', 'fare']\n",
            "Train accuracy: 0.6646706586826348\n",
            "Test accuracy: 0.6905829596412556\n",
            "\n",
            "features: ['sibsp', 'parch', 'alone']\n",
            "Train accuracy: 0.6661676646706587\n",
            "Test accuracy: 0.6591928251121076\n",
            "\n",
            "features: ['sibsp', 'fare', 'alone']\n",
            "Train accuracy: 0.6961077844311377\n",
            "Test accuracy: 0.695067264573991\n",
            "\n",
            "features: ['parch', 'fare', 'alone']\n",
            "Train accuracy: 0.6646706586826348\n",
            "Test accuracy: 0.6905829596412556\n",
            "\n",
            "features: ['pclass', 'sex', 'age', 'sibsp']\n",
            "Train accuracy: 0.8068862275449101\n",
            "Test accuracy: 0.7847533632286996\n",
            "\n",
            "features: ['pclass', 'sex', 'age', 'parch']\n",
            "Train accuracy: 0.7979041916167665\n",
            "Test accuracy: 0.7937219730941704\n",
            "\n",
            "features: ['pclass', 'sex', 'age', 'fare']\n",
            "Train accuracy: 0.7949101796407185\n",
            "Test accuracy: 0.7713004484304933\n",
            "\n",
            "features: ['pclass', 'sex', 'age', 'alone']\n",
            "Train accuracy: 0.7994011976047904\n",
            "Test accuracy: 0.7847533632286996\n",
            "\n",
            "features: ['pclass', 'sex', 'sibsp', 'parch']\n",
            "Train accuracy: 0.8038922155688623\n",
            "Test accuracy: 0.7892376681614349\n",
            "\n",
            "features: ['pclass', 'sex', 'sibsp', 'fare']\n",
            "Train accuracy: 0.7994011976047904\n",
            "Test accuracy: 0.7892376681614349\n",
            "\n",
            "features: ['pclass', 'sex', 'sibsp', 'alone']\n",
            "Train accuracy: 0.8038922155688623\n",
            "Test accuracy: 0.7892376681614349\n",
            "\n",
            "features: ['pclass', 'sex', 'parch', 'fare']\n",
            "Train accuracy: 0.7904191616766467\n",
            "Test accuracy: 0.7847533632286996\n",
            "\n",
            "features: ['pclass', 'sex', 'parch', 'alone']\n",
            "Train accuracy: 0.7919161676646707\n",
            "Test accuracy: 0.7847533632286996\n",
            "\n",
            "features: ['pclass', 'sex', 'fare', 'alone']\n",
            "Train accuracy: 0.7904191616766467\n",
            "Test accuracy: 0.7757847533632287\n",
            "\n",
            "features: ['pclass', 'age', 'sibsp', 'parch']\n",
            "Train accuracy: 0.6946107784431138\n",
            "Test accuracy: 0.7399103139013453\n",
            "\n",
            "features: ['pclass', 'age', 'sibsp', 'fare']\n",
            "Train accuracy: 0.6856287425149701\n",
            "Test accuracy: 0.7219730941704036\n",
            "\n",
            "features: ['pclass', 'age', 'sibsp', 'alone']\n",
            "Train accuracy: 0.7215568862275449\n",
            "Test accuracy: 0.7399103139013453\n",
            "\n",
            "features: ['pclass', 'age', 'parch', 'fare']\n",
            "Train accuracy: 0.6946107784431138\n",
            "Test accuracy: 0.726457399103139\n",
            "\n",
            "features: ['pclass', 'age', 'parch', 'alone']\n",
            "Train accuracy: 0.7140718562874252\n",
            "Test accuracy: 0.7309417040358744\n",
            "\n",
            "features: ['pclass', 'age', 'fare', 'alone']\n",
            "Train accuracy: 0.7125748502994012\n",
            "Test accuracy: 0.7399103139013453\n",
            "\n",
            "features: ['pclass', 'sibsp', 'parch', 'fare']\n",
            "Train accuracy: 0.6796407185628742\n",
            "Test accuracy: 0.7085201793721974\n",
            "\n",
            "features: ['pclass', 'sibsp', 'parch', 'alone']\n",
            "Train accuracy: 0.6991017964071856\n",
            "Test accuracy: 0.7040358744394619\n",
            "\n",
            "features: ['pclass', 'sibsp', 'fare', 'alone']\n",
            "Train accuracy: 0.7080838323353293\n",
            "Test accuracy: 0.7085201793721974\n",
            "\n",
            "features: ['pclass', 'parch', 'fare', 'alone']\n",
            "Train accuracy: 0.7005988023952096\n",
            "Test accuracy: 0.7130044843049327\n",
            "\n",
            "features: ['sex', 'age', 'sibsp', 'parch']\n",
            "Train accuracy: 0.7949101796407185\n",
            "Test accuracy: 0.7802690582959642\n",
            "\n",
            "features: ['sex', 'age', 'sibsp', 'fare']\n",
            "Train accuracy: 0.7964071856287425\n",
            "Test accuracy: 0.7713004484304933\n",
            "\n",
            "features: ['sex', 'age', 'sibsp', 'alone']\n",
            "Train accuracy: 0.7964071856287425\n",
            "Test accuracy: 0.7847533632286996\n",
            "\n",
            "features: ['sex', 'age', 'parch', 'fare']\n",
            "Train accuracy: 0.7859281437125748\n",
            "Test accuracy: 0.7892376681614349\n",
            "\n",
            "features: ['sex', 'age', 'parch', 'alone']\n",
            "Train accuracy: 0.7919161676646707\n",
            "Test accuracy: 0.7847533632286996\n",
            "\n",
            "features: ['sex', 'age', 'fare', 'alone']\n",
            "Train accuracy: 0.7859281437125748\n",
            "Test accuracy: 0.7757847533632287\n",
            "\n",
            "features: ['sex', 'sibsp', 'parch', 'fare']\n",
            "Train accuracy: 0.7904191616766467\n",
            "Test accuracy: 0.7802690582959642\n",
            "\n",
            "features: ['sex', 'sibsp', 'parch', 'alone']\n",
            "Train accuracy: 0.7934131736526946\n",
            "Test accuracy: 0.7937219730941704\n",
            "\n",
            "features: ['sex', 'sibsp', 'fare', 'alone']\n",
            "Train accuracy: 0.7979041916167665\n",
            "Test accuracy: 0.7847533632286996\n",
            "\n",
            "features: ['sex', 'parch', 'fare', 'alone']\n",
            "Train accuracy: 0.7889221556886228\n",
            "Test accuracy: 0.7892376681614349\n",
            "\n",
            "features: ['age', 'sibsp', 'parch', 'fare']\n",
            "Train accuracy: 0.6901197604790419\n",
            "Test accuracy: 0.726457399103139\n",
            "\n",
            "features: ['age', 'sibsp', 'parch', 'alone']\n",
            "Train accuracy: 0.655688622754491\n",
            "Test accuracy: 0.6412556053811659\n",
            "\n",
            "features: ['age', 'sibsp', 'fare', 'alone']\n",
            "Train accuracy: 0.7110778443113772\n",
            "Test accuracy: 0.726457399103139\n",
            "\n",
            "features: ['age', 'parch', 'fare', 'alone']\n",
            "Train accuracy: 0.6646706586826348\n",
            "Test accuracy: 0.6860986547085202\n",
            "\n",
            "features: ['sibsp', 'parch', 'fare', 'alone']\n",
            "Train accuracy: 0.7020958083832335\n",
            "Test accuracy: 0.6860986547085202\n",
            "\n",
            "features: ['pclass', 'sex', 'age', 'sibsp', 'parch']\n",
            "Train accuracy: 0.8068862275449101\n",
            "Test accuracy: 0.7847533632286996\n",
            "\n",
            "features: ['pclass', 'sex', 'age', 'sibsp', 'fare']\n",
            "Train accuracy: 0.7994011976047904\n",
            "Test accuracy: 0.7847533632286996\n",
            "\n",
            "features: ['pclass', 'sex', 'age', 'sibsp', 'alone']\n",
            "Train accuracy: 0.8053892215568862\n",
            "Test accuracy: 0.7802690582959642\n",
            "\n",
            "features: ['pclass', 'sex', 'age', 'parch', 'fare']\n",
            "Train accuracy: 0.7964071856287425\n",
            "Test accuracy: 0.7847533632286996\n",
            "\n",
            "features: ['pclass', 'sex', 'age', 'parch', 'alone']\n",
            "Train accuracy: 0.7964071856287425\n",
            "Test accuracy: 0.7892376681614349\n",
            "\n",
            "features: ['pclass', 'sex', 'age', 'fare', 'alone']\n",
            "Train accuracy: 0.7934131736526946\n",
            "Test accuracy: 0.7757847533632287\n",
            "\n",
            "features: ['pclass', 'sex', 'sibsp', 'parch', 'fare']\n",
            "Train accuracy: 0.7994011976047904\n",
            "Test accuracy: 0.7892376681614349\n",
            "\n",
            "features: ['pclass', 'sex', 'sibsp', 'parch', 'alone']\n",
            "Train accuracy: 0.8038922155688623\n",
            "Test accuracy: 0.7892376681614349\n",
            "\n",
            "features: ['pclass', 'sex', 'sibsp', 'fare', 'alone']\n",
            "Train accuracy: 0.8023952095808383\n",
            "Test accuracy: 0.7892376681614349\n",
            "\n",
            "features: ['pclass', 'sex', 'parch', 'fare', 'alone']\n",
            "Train accuracy: 0.7934131736526946\n",
            "Test accuracy: 0.7937219730941704\n",
            "\n",
            "features: ['pclass', 'age', 'sibsp', 'parch', 'fare']\n",
            "Train accuracy: 0.6916167664670658\n",
            "Test accuracy: 0.7309417040358744\n",
            "\n",
            "features: ['pclass', 'age', 'sibsp', 'parch', 'alone']\n",
            "Train accuracy: 0.7260479041916168\n",
            "Test accuracy: 0.7399103139013453\n",
            "\n",
            "features: ['pclass', 'age', 'sibsp', 'fare', 'alone']\n",
            "Train accuracy: 0.7200598802395209\n",
            "Test accuracy: 0.757847533632287\n",
            "\n",
            "features: ['pclass', 'age', 'parch', 'fare', 'alone']\n",
            "Train accuracy: 0.7125748502994012\n",
            "Test accuracy: 0.7354260089686099\n",
            "\n",
            "features: ['pclass', 'sibsp', 'parch', 'fare', 'alone']\n",
            "Train accuracy: 0.7065868263473054\n",
            "Test accuracy: 0.7085201793721974\n",
            "\n",
            "features: ['sex', 'age', 'sibsp', 'parch', 'fare']\n",
            "Train accuracy: 0.7919161676646707\n",
            "Test accuracy: 0.7757847533632287\n",
            "\n",
            "features: ['sex', 'age', 'sibsp', 'parch', 'alone']\n",
            "Train accuracy: 0.7934131736526946\n",
            "Test accuracy: 0.7847533632286996\n",
            "\n",
            "features: ['sex', 'age', 'sibsp', 'fare', 'alone']\n",
            "Train accuracy: 0.7994011976047904\n",
            "Test accuracy: 0.7713004484304933\n",
            "\n",
            "features: ['sex', 'age', 'parch', 'fare', 'alone']\n",
            "Train accuracy: 0.7874251497005988\n",
            "Test accuracy: 0.7892376681614349\n",
            "\n",
            "features: ['sex', 'sibsp', 'parch', 'fare', 'alone']\n",
            "Train accuracy: 0.7979041916167665\n",
            "Test accuracy: 0.7937219730941704\n",
            "\n",
            "features: ['age', 'sibsp', 'parch', 'fare', 'alone']\n",
            "Train accuracy: 0.7140718562874252\n",
            "Test accuracy: 0.7399103139013453\n",
            "\n",
            "features: ['pclass', 'sex', 'age', 'sibsp', 'parch', 'fare']\n",
            "Train accuracy: 0.8008982035928144\n",
            "Test accuracy: 0.7847533632286996\n",
            "\n",
            "features: ['pclass', 'sex', 'age', 'sibsp', 'parch', 'alone']\n",
            "Train accuracy: 0.8038922155688623\n",
            "Test accuracy: 0.7847533632286996\n",
            "\n",
            "features: ['pclass', 'sex', 'age', 'sibsp', 'fare', 'alone']\n",
            "Train accuracy: 0.7994011976047904\n",
            "Test accuracy: 0.7757847533632287\n",
            "\n",
            "features: ['pclass', 'sex', 'age', 'parch', 'fare', 'alone']\n",
            "Train accuracy: 0.7964071856287425\n",
            "Test accuracy: 0.7847533632286996\n",
            "\n",
            "features: ['pclass', 'sex', 'sibsp', 'parch', 'fare', 'alone']\n",
            "Train accuracy: 0.8023952095808383\n",
            "Test accuracy: 0.7892376681614349\n",
            "\n",
            "features: ['pclass', 'age', 'sibsp', 'parch', 'fare', 'alone']\n",
            "Train accuracy: 0.7200598802395209\n",
            "Test accuracy: 0.757847533632287\n",
            "\n",
            "features: ['sex', 'age', 'sibsp', 'parch', 'fare', 'alone']\n",
            "Train accuracy: 0.7979041916167665\n",
            "Test accuracy: 0.7892376681614349\n",
            "\n",
            "features: ['pclass', 'sex', 'age', 'sibsp', 'parch', 'fare', 'alone']\n",
            "Train accuracy: 0.8023952095808383\n",
            "Test accuracy: 0.7847533632286996\n",
            "\n"
          ],
          "name": "stdout"
        }
      ]
    }
  ]
}