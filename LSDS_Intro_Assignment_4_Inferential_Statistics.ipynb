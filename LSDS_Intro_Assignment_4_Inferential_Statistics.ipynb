{
  "nbformat": 4,
  "nbformat_minor": 0,
  "metadata": {
    "colab": {
      "name": "LSDS_Intro_Assignment_4_Inferential_Statistics.ipynb",
      "version": "0.3.2",
      "provenance": [],
      "collapsed_sections": [],
      "include_colab_link": true
    },
    "kernelspec": {
      "display_name": "Python 3",
      "language": "python",
      "name": "python3"
    }
  },
  "cells": [
    {
      "cell_type": "markdown",
      "metadata": {
        "id": "view-in-github",
        "colab_type": "text"
      },
      "source": [
        "<a href=\"https://colab.research.google.com/github/Nov05/Lambda-School-Data-Science/blob/master/LSDS_Intro_Assignment_4_Inferential_Statistics.ipynb\" target=\"_parent\"><img src=\"https://colab.research.google.com/assets/colab-badge.svg\" alt=\"Open In Colab\"/></a>"
      ]
    },
    {
      "metadata": {
        "id": "LSwe_aflLNyk",
        "colab_type": "text"
      },
      "cell_type": "markdown",
      "source": [
        "# Lambda School, Intro to Data Science, Day 4\n",
        "\n",
        "## Inferential Statistics Assignment"
      ]
    },
    {
      "metadata": {
        "id": "i19U8PYQLNym",
        "colab_type": "code",
        "colab": {}
      },
      "cell_type": "code",
      "source": [
        "%matplotlib inline\n",
        "import matplotlib.pyplot as plt\n",
        "import pandas as pd\n",
        "import random\n",
        "from statistics import mean, stdev"
      ],
      "execution_count": 0,
      "outputs": []
    },
    {
      "metadata": {
        "id": "Gi1JCNi1LNyp",
        "colab_type": "text"
      },
      "cell_type": "markdown",
      "source": [
        "# Titanic\n",
        "\n",
        "Use the [`describe` function in pandas](https://pandas.pydata.org/pandas-docs/stable/generated/pandas.DataFrame.describe.html) to calculate summary statistics (including mean and standard deviation) for `age` and `fare`.\n",
        "\n",
        "Think, and be ready to discuss: How do these two features compare in their central tendency and in their spread?"
      ]
    },
    {
      "metadata": {
        "id": "r2ZTA_lILNyq",
        "colab_type": "code",
        "colab": {}
      },
      "cell_type": "code",
      "source": [
        "df = pd.read_csv('https://raw.githubusercontent.com/ryanleeallred/datasets/master/titanic.csv', index_col=0)\n",
        "features = ['age', 'fare']\n",
        "df.dropna(subset=features, inplace=True)"
      ],
      "execution_count": 0,
      "outputs": []
    },
    {
      "metadata": {
        "id": "N04bFF3PLNys",
        "colab_type": "code",
        "colab": {
          "base_uri": "https://localhost:8080/",
          "height": 294
        },
        "outputId": "ee11771b-687f-4c02-87ed-eac4732eda31"
      },
      "cell_type": "code",
      "source": [
        "df[features].describe()"
      ],
      "execution_count": 6,
      "outputs": [
        {
          "output_type": "execute_result",
          "data": {
            "text/html": [
              "<div>\n",
              "<style scoped>\n",
              "    .dataframe tbody tr th:only-of-type {\n",
              "        vertical-align: middle;\n",
              "    }\n",
              "\n",
              "    .dataframe tbody tr th {\n",
              "        vertical-align: top;\n",
              "    }\n",
              "\n",
              "    .dataframe thead th {\n",
              "        text-align: right;\n",
              "    }\n",
              "</style>\n",
              "<table border=\"1\" class=\"dataframe\">\n",
              "  <thead>\n",
              "    <tr style=\"text-align: right;\">\n",
              "      <th></th>\n",
              "      <th>age</th>\n",
              "      <th>fare</th>\n",
              "    </tr>\n",
              "  </thead>\n",
              "  <tbody>\n",
              "    <tr>\n",
              "      <th>count</th>\n",
              "      <td>714.000000</td>\n",
              "      <td>714.000000</td>\n",
              "    </tr>\n",
              "    <tr>\n",
              "      <th>mean</th>\n",
              "      <td>29.699118</td>\n",
              "      <td>34.694514</td>\n",
              "    </tr>\n",
              "    <tr>\n",
              "      <th>std</th>\n",
              "      <td>14.526497</td>\n",
              "      <td>52.918930</td>\n",
              "    </tr>\n",
              "    <tr>\n",
              "      <th>min</th>\n",
              "      <td>0.420000</td>\n",
              "      <td>0.000000</td>\n",
              "    </tr>\n",
              "    <tr>\n",
              "      <th>25%</th>\n",
              "      <td>20.125000</td>\n",
              "      <td>8.050000</td>\n",
              "    </tr>\n",
              "    <tr>\n",
              "      <th>50%</th>\n",
              "      <td>28.000000</td>\n",
              "      <td>15.741700</td>\n",
              "    </tr>\n",
              "    <tr>\n",
              "      <th>75%</th>\n",
              "      <td>38.000000</td>\n",
              "      <td>33.375000</td>\n",
              "    </tr>\n",
              "    <tr>\n",
              "      <th>max</th>\n",
              "      <td>80.000000</td>\n",
              "      <td>512.329200</td>\n",
              "    </tr>\n",
              "  </tbody>\n",
              "</table>\n",
              "</div>"
            ],
            "text/plain": [
              "              age        fare\n",
              "count  714.000000  714.000000\n",
              "mean    29.699118   34.694514\n",
              "std     14.526497   52.918930\n",
              "min      0.420000    0.000000\n",
              "25%     20.125000    8.050000\n",
              "50%     28.000000   15.741700\n",
              "75%     38.000000   33.375000\n",
              "max     80.000000  512.329200"
            ]
          },
          "metadata": {
            "tags": []
          },
          "execution_count": 6
        }
      ]
    },
    {
      "metadata": {
        "id": "dfFb3yzjLNyu",
        "colab_type": "text"
      },
      "cell_type": "markdown",
      "source": [
        "Plot histograms for both features.\n",
        "\n",
        "Think, and be ready to discuss: What do you notice about the shape of these distributions?"
      ]
    },
    {
      "metadata": {
        "id": "K2M9twlfLNyu",
        "colab_type": "code",
        "colab": {
          "base_uri": "https://localhost:8080/",
          "height": 265
        },
        "outputId": "2c7dd5ef-be76-4b09-98a8-2c52dfb779d8"
      },
      "cell_type": "code",
      "source": [
        "plt.hist(df['age']);"
      ],
      "execution_count": 9,
      "outputs": [
        {
          "output_type": "display_data",
          "data": {
            "image/png": "[encoded data removed]",
            "text/plain": [
              "<Figure size 432x288 with 1 Axes>"
            ]
          },
          "metadata": {
            "tags": []
          }
        }
      ]
    },
    {
      "metadata": {
        "id": "He1QDkWXLNyw",
        "colab_type": "code",
        "colab": {
          "base_uri": "https://localhost:8080/",
          "height": 267
        },
        "outputId": "49e8adc5-b079-4a2c-c160-72cf727eebe2"
      },
      "cell_type": "code",
      "source": [
        "plt.hist(df['fare']);"
      ],
      "execution_count": 11,
      "outputs": [
        {
          "output_type": "display_data",
          "data": {
            "image/png": "[encoded data removed]",
            "text/plain": [
              "<Figure size 432x288 with 1 Axes>"
            ]
          },
          "metadata": {
            "tags": []
          }
        }
      ]
    },
    {
      "metadata": {
        "id": "5cXkMdm-LNyz",
        "colab_type": "text"
      },
      "cell_type": "markdown",
      "source": [
        "# Clumsy Carl\n",
        "\n",
        "Re-do the Clumsy Carl problem -- but suppose that Carl broke **2** of 5 dishes. What's the p-value?\n",
        "\n",
        "Think, and be ready to discuss: Would you reject the null hypothesis?\n",
        "\n",
        "Suggestion: You can look at the lecture notebook, but **don't copy-paste** from it!\n",
        "\n",
        "> You must type each of these exercises in, manually. If you copy and paste, you might as well not even do them. The point of these exercises is to train your hands, your brain, and your mind in how to read, write, and see code. If you copy-paste, you are cheating yourself out of the effectiveness of the lessons. —*[Learn Python the Hard Way](https://learnpythonthehardway.org/book/intro.html)*\n",
        "\n",
        "---\n",
        "\n",
        "Here's the problem restated:\n",
        "\n",
        "Imagine a restaurant employs five dishwashers:\n",
        "- Alice\n",
        "- Bob\n",
        "- Carl\n",
        "- Dave\n",
        "- Eric\n",
        "\n",
        "One week, they break five dishes -- and Carl breaks **two** of the five. So, his coworkers have a hypothesis: Carl is clumsy!\n",
        "\n",
        "Carl says no, it was just bad luck and random chance: it could have happened to anybody. We can call this the null hypothesis.\n",
        "\n",
        "Can we do some math to help answer this argument? What's the probability it was just bad luck?\n",
        "\n",
        "We can write a Monte Carlo simulation to estimate the probability that Carl breaks at least four of the five dishes, assuming that breaking a dish is a truly random event. (We'll assume that the dishwashers have identical workloads and skills.)\n"
      ]
    },
    {
      "metadata": {
        "id": "5IdSBJnmLNy0",
        "colab_type": "code",
        "colab": {}
      },
      "cell_type": "code",
      "source": [
        "dishwashers = ['Alice', 'Bob', 'Carl', 'Dave', 'Eric']\n",
        "broken_dishes = 5\n",
        "dishwasher = 'Carl'"
      ],
      "execution_count": 0,
      "outputs": []
    },
    {
      "metadata": {
        "id": "etpy-I1ILNy2",
        "colab_type": "code",
        "colab": {
          "base_uri": "https://localhost:8080/",
          "height": 34
        },
        "outputId": "5cfc3f76-1ef9-431e-d88d-41aaf888f0f9"
      },
      "cell_type": "code",
      "source": [
        "def simulation(dishwashers, broken_dishes, dishwasher):\n",
        "  breakers = [random.choice(dishwashers) for _ in range(broken_dishes)]\n",
        "  return breakers.count(dishwasher)\n",
        "\n",
        "# test function\n",
        "simulation(dishwashers, broken_dishes, dishwasher)"
      ],
      "execution_count": 35,
      "outputs": [
        {
          "output_type": "execute_result",
          "data": {
            "text/plain": [
              "2"
            ]
          },
          "metadata": {
            "tags": []
          },
          "execution_count": 35
        }
      ]
    },
    {
      "metadata": {
        "id": "e2FxwhAY4D0s",
        "colab_type": "code",
        "colab": {}
      },
      "cell_type": "code",
      "source": [
        "# simulation 100,000 times\n",
        "simulations = [simulation(dishwashers, broken_dishes, dishwasher) for _ in range(100000)]"
      ],
      "execution_count": 0,
      "outputs": []
    },
    {
      "metadata": {
        "id": "852Ii8NI8J91",
        "colab_type": "code",
        "colab": {
          "base_uri": "https://localhost:8080/",
          "height": 265
        },
        "outputId": "4f3ce52e-086b-4020-c6c8-76c690bebc45"
      },
      "cell_type": "code",
      "source": [
        "plt.hist(simulations);"
      ],
      "execution_count": 38,
      "outputs": [
        {
          "output_type": "display_data",
          "data": {
            "image/png": "[encoded data removed]",
            "text/plain": [
              "<Figure size 432x288 with 1 Axes>"
            ]
          },
          "metadata": {
            "tags": []
          }
        }
      ]
    },
    {
      "metadata": {
        "id": "4cqV2Iiq8QVS",
        "colab_type": "code",
        "colab": {
          "base_uri": "https://localhost:8080/",
          "height": 34
        },
        "outputId": "456c07bd-7814-4c10-d203-e46ae85c33f1"
      },
      "cell_type": "code",
      "source": [
        "mean(simulations), stdev(simulations)"
      ],
      "execution_count": 43,
      "outputs": [
        {
          "output_type": "execute_result",
          "data": {
            "text/plain": [
              "(0.99621, 0.8945521997828754)"
            ]
          },
          "metadata": {
            "tags": []
          },
          "execution_count": 43
        }
      ]
    },
    {
      "metadata": {
        "id": "S3iVcsES80Ib",
        "colab_type": "code",
        "colab": {
          "base_uri": "https://localhost:8080/",
          "height": 34
        },
        "outputId": "b335647f-1402-485f-c789-dc3b3bf3a0b3"
      },
      "cell_type": "code",
      "source": [
        "# p-value\n",
        "sum(simulation >= 2 for simulation in simulations) / len(simulations)"
      ],
      "execution_count": 46,
      "outputs": [
        {
          "output_type": "execute_result",
          "data": {
            "text/plain": [
              "0.26117"
            ]
          },
          "metadata": {
            "tags": []
          },
          "execution_count": 46
        }
      ]
    },
    {
      "metadata": {
        "id": "DWdX54xc9Z78",
        "colab_type": "code",
        "colab": {}
      },
      "cell_type": "code",
      "source": [
        "# p-value > 0.05, hence we accept the null hypothesis, \"Carl is not clumsy\"."
      ],
      "execution_count": 0,
      "outputs": []
    },
    {
      "metadata": {
        "id": "HsdV0on2_Qgc",
        "colab_type": "code",
        "colab": {
          "base_uri": "https://localhost:8080/",
          "height": 34
        },
        "outputId": "7c7b1951-a284-4627-8e0f-0d353b69678b"
      },
      "cell_type": "code",
      "source": [
        "# calculate the probability that Carl breaks at least four of the five dishes\n",
        "sum(simulation >= 4 for simulation in simulations) / len(simulations)"
      ],
      "execution_count": 47,
      "outputs": [
        {
          "output_type": "execute_result",
          "data": {
            "text/plain": [
              "0.00675"
            ]
          },
          "metadata": {
            "tags": []
          },
          "execution_count": 47
        }
      ]
    },
    {
      "metadata": {
        "id": "lbuNLuPVLNy4",
        "colab_type": "text"
      },
      "cell_type": "markdown",
      "source": [
        "# Two dice\n",
        "\n",
        "Simulate the distribution of adding two dice.\n",
        "\n",
        "What is the mean? Standard deviation?"
      ]
    },
    {
      "metadata": {
        "id": "Cn1yEJDQLNy5",
        "colab_type": "code",
        "colab": {
          "base_uri": "https://localhost:8080/",
          "height": 34
        },
        "outputId": "f37e69bf-afaf-41e4-e2ea-85d954c31ce7"
      },
      "cell_type": "code",
      "source": [
        "dice = [1, 2, 3, 4, 5, 6]\n",
        "simulations = [(random.choice(dice) + random.choice(dice)) for _ in range(1000000)]\n",
        "mean(simulations), stdev(simulations)"
      ],
      "execution_count": 10,
      "outputs": [
        {
          "output_type": "execute_result",
          "data": {
            "text/plain": [
              "(7.002131, 2.416893522729808)"
            ]
          },
          "metadata": {
            "tags": []
          },
          "execution_count": 10
        }
      ]
    },
    {
      "metadata": {
        "id": "0MM09t6uq4lf",
        "colab_type": "code",
        "colab": {
          "base_uri": "https://localhost:8080/",
          "height": 265
        },
        "outputId": "af9803a0-21ed-49f9-f0ae-f78e92fdc6c3"
      },
      "cell_type": "code",
      "source": [
        "plt.hist(simulations);"
      ],
      "execution_count": 11,
      "outputs": [
        {
          "output_type": "display_data",
          "data": {
            "image/png": "[encoded data removed]",
            "text/plain": [
              "<Figure size 432x288 with 1 Axes>"
            ]
          },
          "metadata": {
            "tags": []
          }
        }
      ]
    },
    {
      "metadata": {
        "id": "8Q0iMN5-LNy7",
        "colab_type": "text"
      },
      "cell_type": "markdown",
      "source": [
        "What is the standard score (z score) of rolling a 10?"
      ]
    },
    {
      "metadata": {
        "id": "9kOLJtxjLNy7",
        "colab_type": "code",
        "colab": {
          "base_uri": "https://localhost:8080/",
          "height": 34
        },
        "outputId": "142128f1-1fb5-4871-a3c0-d3a63e947d83"
      },
      "cell_type": "code",
      "source": [
        "(10 - mean(simulations)) / stdev(simulations)"
      ],
      "execution_count": 12,
      "outputs": [
        {
          "output_type": "execute_result",
          "data": {
            "text/plain": [
              "1.2403810808404987"
            ]
          },
          "metadata": {
            "tags": []
          },
          "execution_count": 12
        }
      ]
    },
    {
      "metadata": {
        "id": "OXVQVpV0LNy-",
        "colab_type": "text"
      },
      "cell_type": "markdown",
      "source": [
        "What is the probability of rolling a 10 or higher?"
      ]
    },
    {
      "metadata": {
        "id": "YfWhW40YLNy_",
        "colab_type": "code",
        "colab": {
          "base_uri": "https://localhost:8080/",
          "height": 34
        },
        "outputId": "7ffeb592-0354-4549-9ae0-9e40fcf48264"
      },
      "cell_type": "code",
      "source": [
        "sum([simulation >= 10 for simulation in simulations]) / len(simulations)"
      ],
      "execution_count": 13,
      "outputs": [
        {
          "output_type": "execute_result",
          "data": {
            "text/plain": [
              "0.167217"
            ]
          },
          "metadata": {
            "tags": []
          },
          "execution_count": 13
        }
      ]
    },
    {
      "metadata": {
        "id": "p8zeToPqLNzB",
        "colab_type": "text"
      },
      "cell_type": "markdown",
      "source": [
        "# Harvest"
      ]
    },
    {
      "metadata": {
        "id": "xf08Iq7uLNzC",
        "colab_type": "text"
      },
      "cell_type": "markdown",
      "source": [
        "Using bootstrap resampling, calculate the 95% confidence interval for mean apple weight ..."
      ]
    },
    {
      "metadata": {
        "id": "9pjuLKH5LNzC",
        "colab_type": "code",
        "colab": {}
      },
      "cell_type": "code",
      "source": [
        "def bootstrap_sample(items):\n",
        "    # Random resample *with replacement*\n",
        "    return random.choices(items, k=len(items))\n",
        "\n",
        "def percentile(x, p):\n",
        "    # x: List of numbers\n",
        "    # p: Percentile, between 0 and 100\n",
        "    i = round((len(x) - 1) * p/100)\n",
        "    return sorted(x)[i]\n",
        "\n",
        "apples = [.5, .4, .5, .6, .3, .7]"
      ],
      "execution_count": 0,
      "outputs": []
    },
    {
      "metadata": {
        "id": "khfyPC0ULNzD",
        "colab_type": "code",
        "colab": {
          "base_uri": "https://localhost:8080/",
          "height": 34
        },
        "outputId": "6506ff3f-99ac-4638-80e4-1553f06e14c4"
      },
      "cell_type": "code",
      "source": [
        "percentile(bootstrap_sample(apples), 0.95)"
      ],
      "execution_count": 6,
      "outputs": [
        {
          "output_type": "execute_result",
          "data": {
            "text/plain": [
              "0.4"
            ]
          },
          "metadata": {
            "tags": []
          },
          "execution_count": 6
        }
      ]
    },
    {
      "metadata": {
        "id": "xsqjoIYJLNzH",
        "colab_type": "text"
      },
      "cell_type": "markdown",
      "source": [
        "... and for mean pumpkin weight:"
      ]
    },
    {
      "metadata": {
        "id": "nqXdG9hQLNzH",
        "colab_type": "code",
        "colab": {}
      },
      "cell_type": "code",
      "source": [
        "pumpkins = [1, 1, 1, 3, 3, 591]"
      ],
      "execution_count": 0,
      "outputs": []
    },
    {
      "metadata": {
        "id": "c65JnpNHLNzI",
        "colab_type": "code",
        "colab": {
          "base_uri": "https://localhost:8080/",
          "height": 34
        },
        "outputId": "58093632-cc37-4f72-b356-8efab85ca9ec"
      },
      "cell_type": "code",
      "source": [
        "percentile(bootstrap_sample(pumpkins), 0.95)"
      ],
      "execution_count": 8,
      "outputs": [
        {
          "output_type": "execute_result",
          "data": {
            "text/plain": [
              "1"
            ]
          },
          "metadata": {
            "tags": []
          },
          "execution_count": 8
        }
      ]
    }
  ]
}