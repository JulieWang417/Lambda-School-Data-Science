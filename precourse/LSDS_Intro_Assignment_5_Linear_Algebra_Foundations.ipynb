{
  "nbformat": 4,
  "nbformat_minor": 0,
  "metadata": {
    "colab": {
      "name": "LSDS_Intro_Assignment_5_Linear_Algebra_Foundations.ipynb",
      "version": "0.3.2",
      "provenance": [],
      "collapsed_sections": [],
      "include_colab_link": true
    },
    "kernelspec": {
      "name": "python3",
      "display_name": "Python 3"
    }
  },
  "cells": [
    {
      "cell_type": "markdown",
      "metadata": {
        "id": "view-in-github",
        "colab_type": "text"
      },
      "source": [
        "<a href=\"https://colab.research.google.com/github/Nov05/Lambda-School-Data-Science/blob/master/LSDS_Intro_Assignment_5_Linear_Algebra_Foundations.ipynb\" target=\"_parent\"><img src=\"https://colab.research.google.com/assets/colab-badge.svg\" alt=\"Open In Colab\"/></a>"
      ]
    },
    {
      "metadata": {
        "id": "C6GiJ7ixeOOU",
        "colab_type": "text"
      },
      "cell_type": "markdown",
      "source": [
        "#Intro to Data Science Assignment 5\n",
        "##Linear Algebra Foundations\n",
        "\n",
        "For the short answers:\n",
        "     Feel free to do any additional research, but try your best to answer the questions in your own words (don't copy/paste).\n",
        "     \n",
        "For the computations by hand:\n",
        "      If you'd like to use LaTex to make things pretty, by all means give it a try, but it is *optional*. You can answer the questions using algebraic-like notation. For instance if I was adding two vectors:\n",
        "      \n",
        "[1,2] + [2,3] => (1+2), (2+3) => [3,5] \n",
        "\n",
        "**Show your work, not just the answer**\n",
        "\n",
        "For the graphs:\n",
        "   Make them as pretty as you like\n",
        "   \n",
        " For using the tools (numpy):\n",
        "    Use labeled print statements as shown"
      ]
    },
    {
      "metadata": {
        "id": "aiXB_mf95Wsx",
        "colab_type": "code",
        "colab": {}
      },
      "cell_type": "code",
      "source": [
        "import matplotlib.pyplot as plt\n",
        "import numpy as np"
      ],
      "execution_count": 0,
      "outputs": []
    },
    {
      "metadata": {
        "id": "yJJdtDoVeiYV",
        "colab_type": "text"
      },
      "cell_type": "markdown",
      "source": [
        "#Short Answer Questions\n",
        "\n",
        "1) Describe a vector\n",
        "\n",
        "2) Describe a matrix\n",
        "\n",
        "3) What can we do with vectors?\n",
        "\n",
        "4) What are basis vectors?\n",
        "\n",
        "5) What is an inverse matrix?\n",
        "\n",
        "6) What is the transpose of a matrix?\n"
      ]
    },
    {
      "metadata": {
        "id": "J2okSel_f1lS",
        "colab_type": "text"
      },
      "cell_type": "markdown",
      "source": [
        "##Your Answers go here:\n",
        "\n",
        "1) A vector is a quantity which has both magnitude and direction.\n",
        "\n",
        "2) A matrix is a collection of numbers arranged into a fixed number of rows and columns.\n",
        "\n",
        "3) We can add two vectors, extend or shrink a vector.\n",
        "\n",
        "4) A vector basis of a vector space is defined as a subset of vectors in that are linearly independent and span.\n",
        "\n",
        "5) If an n-by-n square matrix A mutiply an n-by-n sqare matrix B equals to the n-by-n identity matrix, B is an inverse matrix of A, or A is an inverse matrix of B.\n",
        "\n",
        "6) If matrix B is produced by flipping matrix A over its diagonal (switching the row and column indices of matrix A), matrx B is the transpose of matrix A."
      ]
    },
    {
      "metadata": {
        "id": "Lb-jyiXZgHfH",
        "colab_type": "text"
      },
      "cell_type": "markdown",
      "source": [
        "#Computations by hand\n",
        "\n",
        "1) $ \\begin {bmatrix} 1 \\\\ 3 \\\\ 4 \\end {bmatrix} + \\begin {bmatrix} 4 \\\\ 2 \\\\ 6 \\end {bmatrix} $\n",
        "\n",
        "2) $ 5 \\begin {bmatrix} 1 \\\\ 2 \\\\ 3 \\end{bmatrix} $\n",
        "\n",
        "3) $ \\begin {bmatrix} 1  &  3\\\\ 2 & 3  \\end{bmatrix} \\begin {bmatrix} 1 \\\\ 2 \\end{bmatrix} $\n",
        "\n",
        "4) $ \\begin {bmatrix} 1  &  3\\\\ 2 & 3 \\end{bmatrix} \\begin {bmatrix} 2 & 2 \\\\ 3 & 1 \\end{bmatrix} $\n",
        "\n",
        "5) What is the transpose of :\n",
        "\n",
        "$ \\begin{bmatrix} 1 & 4 \\\\ 2 & 5 \\\\ 3 & 6 \\end{bmatrix} $ \n",
        "\n",
        "6) What is the determinant of:\n",
        "\n",
        " $\\begin {bmatrix} 2 & 2 \\\\ 3 & 1 \\end{bmatrix}$\n",
        " \n",
        " 7) What is the inverse matrix of: \n",
        " \n",
        "  $\\begin {bmatrix} 3 & 2 \\\\ 1 & 2 \\end{bmatrix}$"
      ]
    },
    {
      "metadata": {
        "id": "LdnLfusWjcZQ",
        "colab_type": "text"
      },
      "cell_type": "markdown",
      "source": [
        "## Your Answers go here:\n",
        "\n",
        "1) $ \\begin {bmatrix} 5 \\\\ 5 \\\\ 10 \\end {bmatrix} $\n",
        "\n",
        "2) $ \\begin {bmatrix} 5 \\\\ 10 \\\\ 15 \\end {bmatrix} $\n",
        "\n",
        "3) $ \\begin {bmatrix} 7 \\\\ 8 \\end {bmatrix} $\n",
        "\n",
        "4)  $ \\begin{bmatrix} 11 & 5 \\\\ 13 & 7 \\end{bmatrix} $ \n",
        "\n",
        "5)  $ \\begin{bmatrix} 1 & 2 & 3 \\\\ 4 & 5 & 6 \\end{bmatrix} $ \n",
        "\n",
        "6) -4\n",
        "\n",
        "7) $ \\begin{bmatrix} 0.5 & -0.5 \\\\ -0.25 & 0.75 \\end{bmatrix} $ "
      ]
    },
    {
      "metadata": {
        "id": "B7q5osaBjo10",
        "colab_type": "text"
      },
      "cell_type": "markdown",
      "source": [
        "##Visualize the Vectors\n",
        "\n",
        "Graph the following:\n",
        "\n",
        "  Vector v_1 = [1,0] \n",
        "  \n",
        "  Vector v_2 = v_1 scaled by 2\n",
        "  \n",
        "  Vector v_3 = [0,-1]\n",
        "  \n",
        "  Vector v_4 = the sum of v_2 and v_3\n",
        " "
      ]
    },
    {
      "metadata": {
        "id": "uy65IMqbeNKw",
        "colab_type": "code",
        "outputId": "f6f0b42c-7216-437b-cdf8-326cfd59c170",
        "colab": {
          "base_uri": "https://localhost:8080/",
          "height": 34
        }
      },
      "cell_type": "code",
      "source": [
        "# Visualize the vectors graph goes here\n",
        "v_1 = np.array([1, 0])\n",
        "v_2 = v_1 * 2\n",
        "v_3 = np.array([0, -1])\n",
        "v_4 = np.add(v_2, v_3)\n",
        "print(v_1, v_2, v_3, v_4)"
      ],
      "execution_count": 0,
      "outputs": [
        {
          "output_type": "stream",
          "text": [
            "[1 0] [2 0] [ 0 -1] [ 2 -1]\n"
          ],
          "name": "stdout"
        }
      ]
    },
    {
      "metadata": {
        "id": "yZr8bb1y-Q7s",
        "colab_type": "code",
        "outputId": "c85a5414-1747-47ee-e613-30b0c4ab830e",
        "colab": {
          "base_uri": "https://localhost:8080/",
          "height": 269
        }
      },
      "cell_type": "code",
      "source": [
        "plt.axis([-.25, 2.5, -1.5, .25])\n",
        "plt.arrow(0, 0, v_1[0], v_1[1], head_width=.1, head_length=.25, color = \"b\")\n",
        "plt.arrow(0, 0, v_2[0], v_2[1], head_width=.1, head_length=.25, color = \"r\")\n",
        "plt.arrow(0, 0, v_3[0], v_3[1], head_width=.1, head_length=.25, color = \"y\")\n",
        "plt.arrow(0, 0, v_4[0], v_4[1], head_width=.1, head_length=.25, color = \"c\")\n",
        "plt.grid(True)\n",
        "plt.show()"
      ],
      "execution_count": 0,
      "outputs": [
        {
          "output_type": "display_data",
          "data": {
            "image/png": "[encoded data removed]",
            "text/plain": [
              "<Figure size 432x288 with 1 Axes>"
            ]
          },
          "metadata": {
            "tags": []
          }
        }
      ]
    },
    {
      "metadata": {
        "id": "jWDov3LvlF9C",
        "colab_type": "text"
      },
      "cell_type": "markdown",
      "source": [
        "## Graph the Matrix\n",
        "\n",
        "Graph the columns and rows of this matrix: \n",
        " $\\begin {bmatrix} 2 & 2 \\\\ 3 & 1 \\end{bmatrix}$"
      ]
    },
    {
      "metadata": {
        "id": "Vru0b8zOlEUQ",
        "colab_type": "code",
        "outputId": "2fc6c9e3-d688-49cf-fed9-75e791b92f4d",
        "colab": {
          "base_uri": "https://localhost:8080/",
          "height": 51
        }
      },
      "cell_type": "code",
      "source": [
        "# Matrix graph goes here\n",
        "m = np.matrix('2 2; 3 1')\n",
        "print(m)"
      ],
      "execution_count": 0,
      "outputs": [
        {
          "output_type": "stream",
          "text": [
            "[[2 2]\n",
            " [3 1]]\n"
          ],
          "name": "stdout"
        }
      ]
    },
    {
      "metadata": {
        "id": "Lwzyivk4Bf83",
        "colab_type": "code",
        "outputId": "c1cbbfe9-e33f-4db5-c2d9-016ccba5c949",
        "colab": {
          "base_uri": "https://localhost:8080/",
          "height": 269
        }
      },
      "cell_type": "code",
      "source": [
        "plt.axis([0,4,0,4])\n",
        "plt.arrow(0,0, m[0,0], m[0,1], head_width=.1, head_length=.25, color = \"r\")\n",
        "plt.arrow(0,0, m[1,0], m[1,1], head_width=.1, head_length=.25, color = \"b\")\n",
        "plt.arrow(0,0, m[0,0], m[1,0], head_width=.1, head_length=.25, color = \"orange\")\n",
        "plt.arrow(0,0, m[0,1], m[1,1], head_width=.1, head_length=.25, color = \"c\")\n",
        "plt.grid(True)\n",
        "plt.show()"
      ],
      "execution_count": 0,
      "outputs": [
        {
          "output_type": "display_data",
          "data": {
            "image/png": "[encoded data removed]",
            "text/plain": [
              "<Figure size 432x288 with 1 Axes>"
            ]
          },
          "metadata": {
            "tags": []
          }
        }
      ]
    },
    {
      "metadata": {
        "id": "QbBhyPwhlggH",
        "colab_type": "text"
      },
      "cell_type": "markdown",
      "source": [
        "## Using the tools: NumPy Edition\n",
        "\n",
        "Use the NumPy library to compute the \"Computations by Hand\" section. Make sure to print each answer and label your print statement"
      ]
    },
    {
      "metadata": {
        "id": "JcjUoEANlf8Q",
        "colab_type": "code",
        "outputId": "4c504967-b49f-4a17-acbb-f2e64b562866",
        "colab": {
          "base_uri": "https://localhost:8080/",
          "height": 34
        }
      },
      "cell_type": "code",
      "source": [
        "# Code goes here\n",
        "# Example of labeling your print statement\n",
        "v_0 = [1,2]\n",
        "print('v_0 =', v_0)"
      ],
      "execution_count": 0,
      "outputs": [
        {
          "output_type": "stream",
          "text": [
            "v_0 = [1, 2]\n"
          ],
          "name": "stdout"
        }
      ]
    },
    {
      "metadata": {
        "colab_type": "text",
        "id": "WbTse1-hH-Pf"
      },
      "cell_type": "markdown",
      "source": [
        "###Computations by NumPy\n",
        "\n",
        "1) $ \\begin {bmatrix} 1 \\\\ 3 \\\\ 4 \\end {bmatrix} + \\begin {bmatrix} 4 \\\\ 2 \\\\ 6 \\end {bmatrix} $\n",
        "\n",
        "2) $ 5 \\begin {bmatrix} 1 \\\\ 2 \\\\ 3 \\end{bmatrix} $\n",
        "\n",
        "3) $ \\begin {bmatrix} 1  &  3\\\\ 2 & 3  \\end{bmatrix} \\begin {bmatrix} 1 \\\\ 2 \\end{bmatrix} $\n",
        "\n",
        "4) $ \\begin {bmatrix} 1  &  3\\\\ 2 & 3 \\end{bmatrix} \\begin {bmatrix} 2 & 2 \\\\ 3 & 1 \\end{bmatrix} $\n",
        "\n",
        "5) What is the transpose of :\n",
        "\n",
        "$ \\begin{bmatrix} 1 & 4 \\\\ 2 & 5 \\\\ 3 & 6 \\end{bmatrix} $ \n",
        "\n",
        "6) What is the determinant of:\n",
        "\n",
        " $\\begin {bmatrix} 2 & 2 \\\\ 3 & 1 \\end{bmatrix}$\n",
        " \n",
        " 7) What is the inverse matrix of: \n",
        " \n",
        "  $\\begin {bmatrix} 3 & 2 \\\\ 1 & 2 \\end{bmatrix}$"
      ]
    },
    {
      "metadata": {
        "id": "7ahDw3lxH6vr",
        "colab_type": "code",
        "outputId": "b4792356-57eb-485f-929f-d040ca03fa3f",
        "colab": {
          "base_uri": "https://localhost:8080/",
          "height": 34
        }
      },
      "cell_type": "code",
      "source": [
        "np.array([1,3,4]) + np.array([4,2,6])"
      ],
      "execution_count": 0,
      "outputs": [
        {
          "output_type": "execute_result",
          "data": {
            "text/plain": [
              "array([ 5,  5, 10])"
            ]
          },
          "metadata": {
            "tags": []
          },
          "execution_count": 28
        }
      ]
    },
    {
      "metadata": {
        "id": "WVLzg8zzIdHF",
        "colab_type": "code",
        "outputId": "15fc7edc-5df7-4365-f26e-05c23b81871b",
        "colab": {
          "base_uri": "https://localhost:8080/",
          "height": 34
        }
      },
      "cell_type": "code",
      "source": [
        "5 * np.array([1,2,3])"
      ],
      "execution_count": 0,
      "outputs": [
        {
          "output_type": "execute_result",
          "data": {
            "text/plain": [
              "array([ 5, 10, 15])"
            ]
          },
          "metadata": {
            "tags": []
          },
          "execution_count": 29
        }
      ]
    },
    {
      "metadata": {
        "id": "PyZ0iGWpIk3u",
        "colab_type": "code",
        "outputId": "e8c600ec-8946-4b12-c8f3-76e5231a7b4f",
        "colab": {
          "base_uri": "https://localhost:8080/",
          "height": 34
        }
      },
      "cell_type": "code",
      "source": [
        "a = np.matrix('1 3; 2 3')\n",
        "b = np.array([1, 2])\n",
        "np.dot(a, b)"
      ],
      "execution_count": 0,
      "outputs": [
        {
          "output_type": "execute_result",
          "data": {
            "text/plain": [
              "matrix([[7, 8]])"
            ]
          },
          "metadata": {
            "tags": []
          },
          "execution_count": 30
        }
      ]
    },
    {
      "metadata": {
        "id": "As3_UkdjJnAX",
        "colab_type": "code",
        "outputId": "a85bb6f3-bfe6-4085-a821-3b468a1606cd",
        "colab": {
          "base_uri": "https://localhost:8080/",
          "height": 51
        }
      },
      "cell_type": "code",
      "source": [
        "a = np.matrix('1 3; 2 3')\n",
        "b = np.matrix('2 2; 3 1')\n",
        "np.dot(a, b)"
      ],
      "execution_count": 0,
      "outputs": [
        {
          "output_type": "execute_result",
          "data": {
            "text/plain": [
              "matrix([[11,  5],\n",
              "        [13,  7]])"
            ]
          },
          "metadata": {
            "tags": []
          },
          "execution_count": 31
        }
      ]
    },
    {
      "metadata": {
        "id": "4sh4oejnKK3A",
        "colab_type": "code",
        "outputId": "db4b5483-77ba-4786-e8b9-438fffbd0eac",
        "colab": {
          "base_uri": "https://localhost:8080/",
          "height": 51
        }
      },
      "cell_type": "code",
      "source": [
        "a = np.matrix('1 4; 2 5; 3 6')\n",
        "a.transpose()"
      ],
      "execution_count": 0,
      "outputs": [
        {
          "output_type": "execute_result",
          "data": {
            "text/plain": [
              "matrix([[1, 2, 3],\n",
              "        [4, 5, 6]])"
            ]
          },
          "metadata": {
            "tags": []
          },
          "execution_count": 32
        }
      ]
    },
    {
      "metadata": {
        "id": "2OYwX0V8Ke9v",
        "colab_type": "code",
        "outputId": "5e76039c-0c2b-404e-d6f6-709f17f5e864",
        "colab": {
          "base_uri": "https://localhost:8080/",
          "height": 34
        }
      },
      "cell_type": "code",
      "source": [
        "a = np.matrix('2 2; 3 1')\n",
        "np.linalg.det(a)"
      ],
      "execution_count": 0,
      "outputs": [
        {
          "output_type": "execute_result",
          "data": {
            "text/plain": [
              "-4.000000000000001"
            ]
          },
          "metadata": {
            "tags": []
          },
          "execution_count": 33
        }
      ]
    },
    {
      "metadata": {
        "id": "Wo-A52LdKoia",
        "colab_type": "code",
        "outputId": "735c9601-8aeb-4b57-a868-9a6a848be30f",
        "colab": {
          "base_uri": "https://localhost:8080/",
          "height": 51
        }
      },
      "cell_type": "code",
      "source": [
        "a = np.matrix('3 2; 1 2')\n",
        "np.linalg.inv(a)"
      ],
      "execution_count": 0,
      "outputs": [
        {
          "output_type": "execute_result",
          "data": {
            "text/plain": [
              "matrix([[ 0.5 , -0.5 ],\n",
              "        [-0.25,  0.75]])"
            ]
          },
          "metadata": {
            "tags": []
          },
          "execution_count": 35
        }
      ]
    }
  ]
}
